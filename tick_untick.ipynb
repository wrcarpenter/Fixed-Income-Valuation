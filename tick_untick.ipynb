{
  "nbformat": 4,
  "nbformat_minor": 0,
  "metadata": {
    "colab": {
      "name": "tick-untick.ipynb",
      "provenance": [],
      "collapsed_sections": [],
      "authorship_tag": "ABX9TyO8iZNB41CyGhNREjo7ZRxn"
    },
    "kernelspec": {
      "name": "python3",
      "display_name": "Python 3"
    },
    "language_info": {
      "name": "python"
    }
  },
  "cells": [
    {
      "cell_type": "code",
      "metadata": {
        "id": "eJpJdQqM1bH2"
      },
      "source": [
        "import numpy as np\n",
        "\n",
        "# ticking and unticking bonds for fixed income pricing purposes\n",
        "\n",
        "# def untick(px):\n",
        "  # 101-00\n",
        "  # 100-04+\n",
        "  # 7-084\n",
        "  # add some untick bond price code....\n",
        "\n",
        "#def untick(px):\n",
        "  # needs to be a correct format\n",
        "  # if not, the formula should throw an error \n",
        "\n",
        "def tick(px):\n",
        "  # round eighths to nearest eighth (matches Bloomberg calculations)\n",
        "  # if negative >> make positive and then add back the negative sign at the end \n",
        "  sign = 1\n",
        "  \n",
        "  if px < 0: \n",
        "    px  = abs(px)\n",
        "    sign = -1\n",
        "  \n",
        "  handle  = np.trunc(px)\n",
        "  decimal = px - handle \n",
        "  ticks   = np.trunc(decimal/(1/32))\n",
        "  eighths = np.round_((decimal/(1/32)-ticks)*8, decimals=0)\n",
        "\n",
        "  if eighths >= 8:\n",
        "    ticks   = ticks + 1\n",
        "    eighths = '' \n",
        "\n",
        "  elif eighths == 4:\n",
        "    eighths = '+'  \n",
        "\n",
        "  elif eighths == 0: \n",
        "    eighths = ''\n",
        "\n",
        "  else:\n",
        "    eighths = str('{:0.0f}'.format(eighths))  \n",
        "  \n",
        "  if ticks >= 32:\n",
        "    handle = handle + 1\n",
        "    ticks = '00'\n",
        "\n",
        "  elif ticks == 0:\n",
        "    ticks = '00' \n",
        "\n",
        "  elif ticks < 10:\n",
        "    ticks = '0' + str('{:0.0f}'.format(ticks))\n",
        "\n",
        "  else:\n",
        "    ticks = str('{:0.0f}'.format(ticks))\n",
        "\n",
        "  return str('{:0.0f}'.format(sign*handle) + '-' + ticks + eighths)  \n",
        "\n",
        "def untick(px):\n",
        "  \n",
        "  try:\n",
        "    x = int(px)\n",
        "    return px\n",
        "  \n",
        "  except:\n",
        "    print('here')\n",
        "    index = px.find(\"-\")\n",
        "    \n",
        "    if index == -1: \n",
        "      return float(px)\n",
        "\n",
        "    index = px.find(\"-\")\n",
        "    handle = int(px[:index])\n",
        "    ticks  = px[index+1:len(px)]\n",
        "\n",
        "    eights = 0\n",
        "    \n",
        "    if len(ticks) == 3: \n",
        "      eighths = ticks[-1:]\n",
        "      ticks   = ticks[:len(ticks)-1]\n",
        "    \n",
        "    if eighths == '+': \n",
        "      eighths = 4\n",
        "    print(ticks)\n",
        "    ticks = int(ticks)/32\n",
        "    eighths = int(eighths)/8*1/32\n",
        "    \n",
        "    return  handle + ticks + eighths \n",
        "\n",
        "\n"
      ],
      "execution_count": null,
      "outputs": []
    },
    {
      "cell_type": "code",
      "metadata": {
        "id": "i6gk9HA5VZKc",
        "colab": {
          "base_uri": "https://localhost:8080/"
        },
        "outputId": "93cd6785-baa5-4459-a78e-2d68e5a3f63b"
      },
      "source": [
        "print(tick(100.234375))\n",
        "print(tick(78.34353677))\n",
        "print(tick(103.56543))\n",
        "print(tick(9.32493757387))\n",
        "\n",
        "print(tick(-8.3435444))\n",
        "print(tick(-109.0670707444))\n",
        "\n",
        "print(untick(104))\n",
        "print(untick('100-07+'))\n",
        "\n"
      ],
      "execution_count": null,
      "outputs": [
        {
          "output_type": "stream",
          "name": "stdout",
          "text": [
            "100-07+\n",
            "78-11\n",
            "103-181\n",
            "9-103\n",
            "-8-11\n",
            "-109-021\n",
            "104\n",
            "here\n",
            "07\n",
            "100.234375\n",
            "3\n"
          ]
        }
      ]
    },
    {
      "cell_type": "code",
      "source": [
        "px = '104-00+'\n",
        "index = px.find(\"-\")\n",
        "handle = int(px[:index])\n",
        "ticks  = px[index+1:len(px)]\n",
        "\n",
        "eights = 0\n",
        "if len(ticks) == 3: eighths = ticks[-1:]\n",
        "if eighths    == '+': eighths = 4\n",
        "\n",
        "ticks = int(ticks)/8\n",
        "eighths = int(eighths)/8*1/32\n",
        "return  handle + ticks + eighths \n",
        "\n",
        "\n",
        "\n",
        "\n",
        "\n",
        "\n",
        "print(index)\n",
        "print(handle)\n",
        "print(ticks)\n",
        "print(eighths)\n",
        "\n"
      ],
      "metadata": {
        "colab": {
          "base_uri": "https://localhost:8080/"
        },
        "id": "xLmOyTzYWU3Y",
        "outputId": "4d28063c-0953-4939-8e88-bc1354271185"
      },
      "execution_count": null,
      "outputs": [
        {
          "output_type": "stream",
          "name": "stdout",
          "text": [
            "3\n",
            "104\n",
            "00+\n",
            "+\n"
          ]
        }
      ]
    },
    {
      "cell_type": "code",
      "source": [
        "px = '10007+'\n",
        "\n",
        "print(px.find(\"-\"))"
      ],
      "metadata": {
        "colab": {
          "base_uri": "https://localhost:8080/"
        },
        "id": "NBtogg-4bFXK",
        "outputId": "1b38c747-da04-42bc-b760-a489b5601657"
      },
      "execution_count": null,
      "outputs": [
        {
          "output_type": "stream",
          "name": "stdout",
          "text": [
            "-1\n"
          ]
        }
      ]
    }
  ]
}